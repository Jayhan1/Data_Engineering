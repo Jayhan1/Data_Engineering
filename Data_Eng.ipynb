{
 "cells": [
  {
   "cell_type": "markdown",
   "id": "6440cde1",
   "metadata": {},
   "source": [
    "#### Data Engineering Numpy (Universal Array Function)\n"
   ]
  },
  {
   "cell_type": "markdown",
   "id": "7da94a4a",
   "metadata": {},
   "source": [
    "###  Create a NumPy array with shape (3,3) and fill it with random numbers. Use the np.exp()function to compute the exponential of each element in the array.\n",
    " "
   ]
  },
  {
   "cell_type": "code",
   "execution_count": 8,
   "id": "05b12322",
   "metadata": {},
   "outputs": [
    {
     "name": "stdout",
     "output_type": "stream",
     "text": [
      "Original array:\n",
      "[[0.3763387  0.09774242 0.3039286 ]\n",
      " [0.67807017 0.47833673 0.97163219]\n",
      " [0.06614454 0.09874208 0.32737961]]\n",
      "\n",
      "Exponential array:\n",
      "[[1.45694052 1.10267872 1.3551723 ]\n",
      " [1.97007216 1.61338866 2.64225359]\n",
      " [1.06838113 1.10378157 1.38732802]]\n",
      "\n",
      "real output:\n",
      "[[0.3763387  0.09774242 0.3039286 ]\n",
      " [0.67807017 0.47833673 0.97163219]\n",
      " [0.06614454 0.09874208 0.32737961]]\n"
     ]
    }
   ],
   "source": [
    "import numpy as np\n",
    "\n",
    "array = np.random.rand(3, 3)\n",
    "\n",
    "print(\"Original array:\")\n",
    "print(array)\n",
    "\n",
    "# Compute the exponential of each element using np.exp()\n",
    "exp_array = np.exp(array)\n",
    "print(\"\\nExponential array:\")\n",
    "print(exp_array)\n",
    "\n",
    "l=np.log(exp_array)\n",
    "print(\"\\nreal output:\")\n",
    "print(l)\n"
   ]
  },
  {
   "cell_type": "code",
   "execution_count": 4,
   "id": "76b32390",
   "metadata": {},
   "outputs": [
    {
     "name": "stdout",
     "output_type": "stream",
     "text": [
      "Original array:\n",
      "[[0.28689244 0.59152226 0.64136135]\n",
      " [0.00816488 0.94821248 0.60676607]\n",
      " [0.26921429 0.883269   0.58945472]]\n",
      "\n",
      "Exponential array:\n",
      "[[1.3322809  1.80673664 1.89906441]\n",
      " [1.0081983  2.58109177 1.83448918]\n",
      " [1.30893561 2.41879385 1.80300501]]\n"
     ]
    }
   ],
   "source": [
    "import numpy as np\n",
    "\n",
    "# Create a NumPy array with shape (3,3) filled with random numbers\n",
    "array = np.random.rand(3, 3)\n",
    "\n",
    "print(\"Original array:\")\n",
    "print(array)\n",
    "\n",
    "# Compute the exponential of each element using np.exp()\n",
    "exp_array = np.exp(array)\n",
    "\n",
    "print(\"\\nExponential array:\")\n",
    "print(exp_array)\n"
   ]
  },
  {
   "cell_type": "code",
   "execution_count": 19,
   "id": "83336eca",
   "metadata": {},
   "outputs": [
    {
     "name": "stdout",
     "output_type": "stream",
     "text": [
      "Original array:\n",
      "[[0.3761148  0.57832797 0.26629548]\n",
      " [0.80178887 0.59534271 0.7769275 ]\n",
      " [0.69327806 0.62397523 0.92964582]]\n",
      "\n",
      "real output:\n",
      "[[-0.97786087 -0.54761415 -1.32314877]\n",
      " [-0.22090997 -0.51861806 -0.25240824]\n",
      " [-0.36632411 -0.4716446  -0.07295161]]\n"
     ]
    }
   ],
   "source": [
    "array = np.random.rand(3, 3)\n",
    "\n",
    "print(\"Original array:\")\n",
    "print(array)\n",
    "\n",
    "l=np.log(array)\n",
    "print(\"\\nreal output:\")\n",
    "print(l)\n"
   ]
  },
  {
   "cell_type": "markdown",
   "id": "5a653fb7",
   "metadata": {},
   "source": [
    "#### Create a NumPy array with shape (4,4) and fill it with random numbers. Use the np.sin() function to compute the sine of each element in the array."
   ]
  },
  {
   "cell_type": "code",
   "execution_count": 9,
   "id": "1e68d5b4",
   "metadata": {},
   "outputs": [
    {
     "name": "stdout",
     "output_type": "stream",
     "text": [
      "Original array:\n",
      "[[0.92515107 0.76012693 0.76199672 0.78077796]\n",
      " [0.31865317 0.82188891 0.8961148  0.25124776]\n",
      " [0.0470808  0.5918266  0.1729326  0.12039506]\n",
      " [0.11981694 0.07310346 0.71190143 0.60707053]]\n",
      "\n",
      "Sine array:\n",
      "[[0.79871167 0.68901344 0.69036737 0.70383227]\n",
      " [0.31328781 0.73243318 0.78090593 0.24861274]\n",
      " [0.04706341 0.55787789 0.17207194 0.12010442]\n",
      " [0.11953046 0.07303836 0.65327456 0.57046387]]\n"
     ]
    }
   ],
   "source": [
    "\n",
    "array = np.random.rand(4, 4)\n",
    "\n",
    "print(\"Original array:\")\n",
    "print(array)\n",
    "\n",
    "# Compute the sine of each element using np.sin()\n",
    "sin_array = np.sin(array)\n",
    "\n",
    "print(\"\\nSine array:\")\n",
    "print(sin_array)\n"
   ]
  },
  {
   "cell_type": "markdown",
   "id": "a66e850d",
   "metadata": {},
   "source": [
    "#### Create a NumPy array with shape (2,2) and fill it with random numbers. Use the np.sqrt() function to compute the square root of each element in the array"
   ]
  },
  {
   "cell_type": "code",
   "execution_count": 11,
   "id": "e2d06dcc",
   "metadata": {},
   "outputs": [
    {
     "name": "stdout",
     "output_type": "stream",
     "text": [
      "Original array:\n",
      "[[0.85046559 0.26917402]\n",
      " [0.63507346 0.22070047]]\n",
      "\n",
      "Square root array:\n",
      "[[0.92220691 0.51881984]\n",
      " [0.79691497 0.46978768]]\n"
     ]
    }
   ],
   "source": [
    "\n",
    "array = np.random.rand(2, 2)\n",
    "\n",
    "print(\"Original array:\")\n",
    "print(array)\n",
    "\n",
    "sqrt_array = np.sqrt(array)\n",
    "\n",
    "print(\"\\nSquare root array:\")\n",
    "print(sqrt_array)\n",
    "\n"
   ]
  },
  {
   "cell_type": "markdown",
   "id": "4e729ec4",
   "metadata": {},
   "source": [
    "#####  Create a NumPy array with shape (6,6) and fill it with random numbers. Use the np.floor() function to round down each element in the array to the nearest integer."
   ]
  },
  {
   "cell_type": "code",
   "execution_count": 13,
   "id": "c6c51c45",
   "metadata": {},
   "outputs": [
    {
     "name": "stdout",
     "output_type": "stream",
     "text": [
      "[[0.93439309 0.97825423 0.75480681 0.07889318 0.9224487  0.5639127 ]\n",
      " [0.50033113 0.85991241 0.62370073 0.27092997 0.03705882 0.81918437]\n",
      " [0.76233653 0.1110419  0.69138969 0.27423749 0.86487513 0.94051082]\n",
      " [0.51894589 0.98472498 0.61156884 0.23523947 0.50233465 0.49900749]\n",
      " [0.63631163 0.84312161 0.5717473  0.93314778 0.79215603 0.12455208]\n",
      " [0.65774538 0.65591323 0.48365499 0.96972478 0.31870519 0.86783789]]\n",
      "\n",
      "Square root array:\n",
      "[[1. 1. 1. 0. 1. 1.]\n",
      " [1. 1. 1. 0. 0. 1.]\n",
      " [1. 0. 1. 0. 1. 1.]\n",
      " [1. 1. 1. 0. 1. 0.]\n",
      " [1. 1. 1. 1. 1. 0.]\n",
      " [1. 1. 0. 1. 0. 1.]]\n"
     ]
    }
   ],
   "source": [
    "array = np.random.rand(6, 6)\n",
    "print(array)\n",
    "\n",
    "sqrt_array = np.round(array)\n",
    "\n",
    "print(\"\\nround array:\")\n",
    "print(sqrt_array)"
   ]
  },
  {
   "cell_type": "code",
   "execution_count": 15,
   "id": "ca3f2d9d",
   "metadata": {},
   "outputs": [
    {
     "name": "stdout",
     "output_type": "stream",
     "text": [
      "Original array:\n",
      "[[0.00162712 0.31832575]\n",
      " [0.33791944 0.24071688]]\n",
      "\n",
      "floor array:\n",
      "[[0. 0.]\n",
      " [0. 0.]]\n"
     ]
    }
   ],
   "source": [
    "array = np.random.rand(2, 2)\n",
    "\n",
    "print(\"Original array:\")\n",
    "print(array)\n",
    "\n",
    "sqrt_array = np.floor(array)\n",
    "\n",
    "print(\"\\nfloor array:\")\n",
    "print(sqrt_array)"
   ]
  },
  {
   "cell_type": "markdown",
   "id": "1d1f7a31",
   "metadata": {},
   "source": [
    "#### Create a NumPy array with shape (3,3) and fill it with random numbers. Use the np.abs() function to compute the absolute value of each element in the array"
   ]
  },
  {
   "cell_type": "code",
   "execution_count": 17,
   "id": "38d64ba2",
   "metadata": {},
   "outputs": [
    {
     "name": "stdout",
     "output_type": "stream",
     "text": [
      "Original array:\n",
      "[[0.09538988 0.59610827 0.34941367]\n",
      " [0.2708909  0.412675   0.0983937 ]\n",
      " [0.28496064 0.67222865 0.47234577]]\n",
      "\n",
      "absolute valuearray:\n",
      "[[0.09538988 0.59610827 0.34941367]\n",
      " [0.2708909  0.412675   0.0983937 ]\n",
      " [0.28496064 0.67222865 0.47234577]]\n"
     ]
    }
   ],
   "source": [
    "array = np.random.rand(3, 3)\n",
    "\n",
    "print(\"Original array:\")\n",
    "print(array)\n",
    "\n",
    "absolute_value = np.abs(array)\n",
    "\n",
    "print(\"\\nabsolute valuearray:\")\n",
    "print(absolute_value)"
   ]
  },
  {
   "cell_type": "markdown",
   "id": "319a66f2",
   "metadata": {},
   "source": [
    "#### Create a NumPy array with shape (4,4) and fill it with random numbers. Use the np.power() function to raise each element in the array to the power of 2"
   ]
  },
  {
   "cell_type": "code",
   "execution_count": 18,
   "id": "4e15c28d",
   "metadata": {},
   "outputs": [
    {
     "name": "stdout",
     "output_type": "stream",
     "text": [
      "Original array:\n",
      "[[0.19294842 0.22150073 0.7694583  0.75070124]\n",
      " [0.39509886 0.70133156 0.63212083 0.06254406]\n",
      " [0.79587173 0.07596452 0.91556109 0.19666012]\n",
      " [0.92189114 0.97302284 0.53173818 0.32490608]]\n",
      "\n",
      "Raised to the power of 2 array:\n",
      "[[0.03722909 0.04906257 0.59206608 0.56355235]\n",
      " [0.15610311 0.49186596 0.39957675 0.00391176]\n",
      " [0.6334118  0.00577061 0.83825211 0.0386752 ]\n",
      " [0.84988328 0.94677346 0.28274549 0.10556396]]\n"
     ]
    }
   ],
   "source": [
    "\n",
    "array = np.random.rand(4, 4)\n",
    "\n",
    "print(\"Original array:\")\n",
    "print(array)\n",
    "\n",
    "power_array = np.power(array, 2)\n",
    "\n",
    "print(\"\\nRaised to the power of 2 array:\")\n",
    "print(power_array)\n"
   ]
  },
  {
   "cell_type": "markdown",
   "id": "0b448cb6",
   "metadata": {},
   "source": [
    "#### Create a NumPy array with 5 random integers between 1 and 10. Use the maximum function to find the largest element in the array."
   ]
  },
  {
   "cell_type": "code",
   "execution_count": 20,
   "id": "df59ca5d",
   "metadata": {},
   "outputs": [
    {
     "name": "stdout",
     "output_type": "stream",
     "text": [
      "Array of random integers:\n",
      "[4 4 8 3 9]\n",
      "\n",
      "Largest element in the array: 9\n"
     ]
    }
   ],
   "source": [
    "\n",
    "array = np.random.randint(1, 11, size=5)\n",
    "\n",
    "print(\"Array of random integers:\")\n",
    "print(array)\n",
    "\n",
    "largest_element = np.max(array)\n",
    "\n",
    "print(\"\\nLargest element in the array:\", largest_element)\n"
   ]
  },
  {
   "cell_type": "markdown",
   "id": "0bd46dc3",
   "metadata": {},
   "source": [
    "#### Create a NumPy array with 10 random floating-point numbers between 0 and 1. Use the round function to round each element to the nearest integer"
   ]
  },
  {
   "cell_type": "code",
   "execution_count": 21,
   "id": "a6b71b98",
   "metadata": {},
   "outputs": [
    {
     "name": "stdout",
     "output_type": "stream",
     "text": [
      "Original array:\n",
      "[0.94610213 0.90493862 0.85817549 0.77427303 0.4898077  0.70795107\n",
      " 0.66320097 0.474339   0.82682387 0.26748899]\n",
      "\n",
      "Rounded array:\n",
      "[1. 1. 1. 1. 0. 1. 1. 0. 1. 0.]\n"
     ]
    }
   ],
   "source": [
    "\n",
    "array = np.random.rand(10)\n",
    "\n",
    "print(\"Original array:\")\n",
    "print(array)\n",
    "\n",
    "rounded_array = np.round(array)\n",
    "\n",
    "print(\"\\nRounded array:\")\n",
    "print(rounded_array)\n"
   ]
  },
  {
   "cell_type": "markdown",
   "id": "3a36b681",
   "metadata": {},
   "source": [
    "#### Create a NumPy array with 7 random integers between 1 and 100. Use the argmax function to find the index of the largest element in the array.\n"
   ]
  },
  {
   "cell_type": "code",
   "execution_count": 25,
   "id": "1ceb94f9",
   "metadata": {},
   "outputs": [
    {
     "name": "stdout",
     "output_type": "stream",
     "text": [
      "Original array:\n",
      "[ 8 11 54 63 25 97 24]\n",
      "\n",
      "largest element:\n",
      "5\n"
     ]
    }
   ],
   "source": [
    "array = np.random.randint(1,101,7)\n",
    "\n",
    "print(\"Original array:\")\n",
    "print(array)\n",
    "\n",
    "largest_element = np.argmax(array)\n",
    "\n",
    "print(\"\\nlargest element:\")\n",
    "print(largest_element)"
   ]
  },
  {
   "cell_type": "markdown",
   "id": "cf13e2cf",
   "metadata": {},
   "source": [
    "#### Create two NumPy arrays with the same shape, each filled with random integers between 1 and 10  Use the add function to add the two arrays together element-wise."
   ]
  },
  {
   "cell_type": "code",
   "execution_count": 26,
   "id": "af83ae97",
   "metadata": {},
   "outputs": [
    {
     "name": "stdout",
     "output_type": "stream",
     "text": [
      "Array 1:\n",
      "[[8 5 8 7]\n",
      " [6 6 1 9]\n",
      " [7 7 9 4]\n",
      " [6 1 2 2]]\n",
      "\n",
      "Array 2:\n",
      "[[ 9  9  8  9]\n",
      " [ 4  2  3  7]\n",
      " [10  1  2 10]\n",
      " [ 9  5  9  1]]\n",
      "\n",
      "Result array:\n",
      "[[17 14 16 16]\n",
      " [10  8  4 16]\n",
      " [17  8 11 14]\n",
      " [15  6 11  3]]\n"
     ]
    }
   ],
   "source": [
    "\n",
    "array1 = np.random.randint(1, 11, size=(4, 4))\n",
    "array2 = np.random.randint(1, 11, size=(4, 4))\n",
    "\n",
    "print(\"Array 1:\")\n",
    "print(array1)\n",
    "\n",
    "print(\"\\nArray 2:\")\n",
    "print(array2)\n",
    "\n",
    "result_array = np.add(array1, array2)\n",
    "\n",
    "print(\"\\nResult array:\")\n",
    "print(result_array)\n",
    "\n"
   ]
  },
  {
   "cell_type": "markdown",
   "id": "fab969f2",
   "metadata": {},
   "source": [
    "#### Create a NumPy array with 12 random integers between 0 and 100. Use the clip function to limit the values in the array to a range between 10 and 90"
   ]
  },
  {
   "cell_type": "code",
   "execution_count": 27,
   "id": "736eb650",
   "metadata": {},
   "outputs": [
    {
     "name": "stdout",
     "output_type": "stream",
     "text": [
      "Original array:\n",
      "[  2  25 100  40   7  77   6  83  52  67  98  75]\n",
      "\n",
      "Clipped array:\n",
      "[10 25 90 40 10 77 10 83 52 67 90 75]\n"
     ]
    }
   ],
   "source": [
    "\n",
    "array = np.random.randint(0, 101, size=12)\n",
    "\n",
    "print(\"Original array:\")\n",
    "print(array)\n",
    "\n",
    "clipped_array = np.clip(array, 10, 90)\n",
    "\n",
    "print(\"\\nClipped array:\")\n",
    "print(clipped_array)\n"
   ]
  },
  {
   "cell_type": "code",
   "execution_count": null,
   "id": "b65f8320",
   "metadata": {},
   "outputs": [],
   "source": []
  }
 ],
 "metadata": {
  "kernelspec": {
   "display_name": "Python 3 (ipykernel)",
   "language": "python",
   "name": "python3"
  },
  "language_info": {
   "codemirror_mode": {
    "name": "ipython",
    "version": 3
   },
   "file_extension": ".py",
   "mimetype": "text/x-python",
   "name": "python",
   "nbconvert_exporter": "python",
   "pygments_lexer": "ipython3",
   "version": "3.10.9"
  }
 },
 "nbformat": 4,
 "nbformat_minor": 5
}
