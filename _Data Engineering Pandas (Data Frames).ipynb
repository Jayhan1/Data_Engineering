{
 "cells": [
  {
   "cell_type": "markdown",
   "id": "696e7c16",
   "metadata": {},
   "source": [
    "## Data Engineering Pandas (Data Frames)"
   ]
  },
  {
   "cell_type": "code",
   "execution_count": 47,
   "id": "0ba3d6a2",
   "metadata": {},
   "outputs": [],
   "source": [
    "import pandas as pd\n",
    "import numpy as np"
   ]
  },
  {
   "cell_type": "markdown",
   "id": "d736ec51",
   "metadata": {},
   "source": [
    "##### 1-Create a CSV file with the following data:"
   ]
  },
  {
   "cell_type": "code",
   "execution_count": 48,
   "id": "37099501",
   "metadata": {},
   "outputs": [],
   "source": [
    "data = {\n",
    "    'Name': ['Alice', 'Bob', 'Charlie', 'Danielle'],\n",
    "    'Age': [25, 30, 35, 40],\n",
    "    'Gender': ['Female', 'Male', 'Male', 'Female'],\n",
    "    'Occupation': ['Engineer', 'Scientist', 'Artist', 'Teacher']\n",
    "}\n",
    "df = pd.DataFrame(data)\n",
    "\n",
    "df.to_csv('data.csv', index=False)\n"
   ]
  },
  {
   "cell_type": "markdown",
   "id": "3abd7063",
   "metadata": {},
   "source": [
    "#### 2. Read the CSV file into a DataFrame using pandas."
   ]
  },
  {
   "cell_type": "code",
   "execution_count": 49,
   "id": "79fdeee4",
   "metadata": {},
   "outputs": [
    {
     "name": "stdout",
     "output_type": "stream",
     "text": [
      "       Name  Age  Gender Occupation\n",
      "0     Alice   25  Female   Engineer\n",
      "1       Bob   30    Male  Scientist\n",
      "2   Charlie   35    Male     Artist\n",
      "3  Danielle   40  Female    Teacher\n"
     ]
    }
   ],
   "source": [
    "df = pd.read_csv('data.csv')\n",
    "print(df)\n"
   ]
  },
  {
   "cell_type": "markdown",
   "id": "1e97d40c",
   "metadata": {},
   "source": [
    "#### 3. Extract the 'Age' and 'Occupation' columns into a new DataFrame."
   ]
  },
  {
   "cell_type": "code",
   "execution_count": 50,
   "id": "d1f87283",
   "metadata": {},
   "outputs": [
    {
     "name": "stdout",
     "output_type": "stream",
     "text": [
      "   Age Occupation\n",
      "0   25   Engineer\n",
      "1   30  Scientist\n",
      "2   35     Artist\n",
      "3   40    Teacher\n"
     ]
    }
   ],
   "source": [
    "df = pd.read_csv('data.csv')\n",
    "new_df = df[['Age', 'Occupation']]\n",
    "print(new_df)\n"
   ]
  },
  {
   "cell_type": "markdown",
   "id": "a4618787",
   "metadata": {},
   "source": [
    "#### 4. Try to extract a column that doesn't exist in the DataFrame and observe the error message."
   ]
  },
  {
   "cell_type": "code",
   "execution_count": 51,
   "id": "0b5dde8d",
   "metadata": {},
   "outputs": [
    {
     "name": "stdout",
     "output_type": "stream",
     "text": [
      "Error: 'Salary'\n"
     ]
    }
   ],
   "source": [
    "column_name = 'Salary'\n",
    "try:\n",
    "    column = df[column_name]\n",
    "except KeyError as e:\n",
    "    print(f\"Error: {e}\")\n"
   ]
  },
  {
   "cell_type": "markdown",
   "id": "4c8b49f6",
   "metadata": {},
   "source": [
    "#### 5. Assign the value 50 to the entire 'Age' column."
   ]
  },
  {
   "cell_type": "code",
   "execution_count": 52,
   "id": "fe4b6c8c",
   "metadata": {},
   "outputs": [
    {
     "data": {
      "text/html": [
       "<div>\n",
       "<style scoped>\n",
       "    .dataframe tbody tr th:only-of-type {\n",
       "        vertical-align: middle;\n",
       "    }\n",
       "\n",
       "    .dataframe tbody tr th {\n",
       "        vertical-align: top;\n",
       "    }\n",
       "\n",
       "    .dataframe thead th {\n",
       "        text-align: right;\n",
       "    }\n",
       "</style>\n",
       "<table border=\"1\" class=\"dataframe\">\n",
       "  <thead>\n",
       "    <tr style=\"text-align: right;\">\n",
       "      <th></th>\n",
       "      <th>Name</th>\n",
       "      <th>Age</th>\n",
       "      <th>Gender</th>\n",
       "      <th>Occupation</th>\n",
       "    </tr>\n",
       "  </thead>\n",
       "  <tbody>\n",
       "    <tr>\n",
       "      <th>0</th>\n",
       "      <td>Alice</td>\n",
       "      <td>50</td>\n",
       "      <td>Female</td>\n",
       "      <td>Engineer</td>\n",
       "    </tr>\n",
       "    <tr>\n",
       "      <th>1</th>\n",
       "      <td>Bob</td>\n",
       "      <td>50</td>\n",
       "      <td>Male</td>\n",
       "      <td>Scientist</td>\n",
       "    </tr>\n",
       "    <tr>\n",
       "      <th>2</th>\n",
       "      <td>Charlie</td>\n",
       "      <td>50</td>\n",
       "      <td>Male</td>\n",
       "      <td>Artist</td>\n",
       "    </tr>\n",
       "    <tr>\n",
       "      <th>3</th>\n",
       "      <td>Danielle</td>\n",
       "      <td>50</td>\n",
       "      <td>Female</td>\n",
       "      <td>Teacher</td>\n",
       "    </tr>\n",
       "  </tbody>\n",
       "</table>\n",
       "</div>"
      ],
      "text/plain": [
       "       Name  Age  Gender Occupation\n",
       "0     Alice   50  Female   Engineer\n",
       "1       Bob   50    Male  Scientist\n",
       "2   Charlie   50    Male     Artist\n",
       "3  Danielle   50  Female    Teacher"
      ]
     },
     "execution_count": 52,
     "metadata": {},
     "output_type": "execute_result"
    }
   ],
   "source": [
    "df['Age'] = 50\n",
    "df"
   ]
  },
  {
   "cell_type": "markdown",
   "id": "26f2e3db",
   "metadata": {},
   "source": [
    "#### 6. Try to assign random values for the Salary"
   ]
  },
  {
   "cell_type": "code",
   "execution_count": 53,
   "id": "3ff12471",
   "metadata": {},
   "outputs": [
    {
     "data": {
      "text/html": [
       "<div>\n",
       "<style scoped>\n",
       "    .dataframe tbody tr th:only-of-type {\n",
       "        vertical-align: middle;\n",
       "    }\n",
       "\n",
       "    .dataframe tbody tr th {\n",
       "        vertical-align: top;\n",
       "    }\n",
       "\n",
       "    .dataframe thead th {\n",
       "        text-align: right;\n",
       "    }\n",
       "</style>\n",
       "<table border=\"1\" class=\"dataframe\">\n",
       "  <thead>\n",
       "    <tr style=\"text-align: right;\">\n",
       "      <th></th>\n",
       "      <th>Name</th>\n",
       "      <th>Age</th>\n",
       "      <th>Gender</th>\n",
       "      <th>Occupation</th>\n",
       "      <th>Salary</th>\n",
       "    </tr>\n",
       "  </thead>\n",
       "  <tbody>\n",
       "    <tr>\n",
       "      <th>0</th>\n",
       "      <td>Alice</td>\n",
       "      <td>25</td>\n",
       "      <td>Female</td>\n",
       "      <td>Engineer</td>\n",
       "      <td>69188</td>\n",
       "    </tr>\n",
       "    <tr>\n",
       "      <th>1</th>\n",
       "      <td>Bob</td>\n",
       "      <td>30</td>\n",
       "      <td>Male</td>\n",
       "      <td>Scientist</td>\n",
       "      <td>47568</td>\n",
       "    </tr>\n",
       "    <tr>\n",
       "      <th>2</th>\n",
       "      <td>Charlie</td>\n",
       "      <td>35</td>\n",
       "      <td>Male</td>\n",
       "      <td>Artist</td>\n",
       "      <td>49769</td>\n",
       "    </tr>\n",
       "    <tr>\n",
       "      <th>3</th>\n",
       "      <td>Danielle</td>\n",
       "      <td>40</td>\n",
       "      <td>Female</td>\n",
       "      <td>Teacher</td>\n",
       "      <td>58693</td>\n",
       "    </tr>\n",
       "  </tbody>\n",
       "</table>\n",
       "</div>"
      ],
      "text/plain": [
       "       Name  Age  Gender Occupation  Salary\n",
       "0     Alice   25  Female   Engineer   69188\n",
       "1       Bob   30    Male  Scientist   47568\n",
       "2   Charlie   35    Male     Artist   49769\n",
       "3  Danielle   40  Female    Teacher   58693"
      ]
     },
     "execution_count": 53,
     "metadata": {},
     "output_type": "execute_result"
    }
   ],
   "source": [
    "df = pd.read_csv('data.csv')\n",
    "df['Salary'] = np.random.randint(30000, 80000, size=len(df))\n",
    "df"
   ]
  },
  {
   "cell_type": "markdown",
   "id": "aa79f049",
   "metadata": {},
   "source": [
    "#### 7. Add a new column called 'Kids' to the DataFrame with the following values: [2, 4, 0, 5]"
   ]
  },
  {
   "cell_type": "code",
   "execution_count": 54,
   "id": "43c39cea",
   "metadata": {},
   "outputs": [
    {
     "name": "stdout",
     "output_type": "stream",
     "text": [
      "       Name  Age  Gender Occupation  Salary  Kids\n",
      "0     Alice   25  Female   Engineer   69188     2\n",
      "1       Bob   30    Male  Scientist   47568     4\n",
      "2   Charlie   35    Male     Artist   49769     0\n",
      "3  Danielle   40  Female    Teacher   58693     5\n"
     ]
    }
   ],
   "source": [
    "kids_values = [2, 4, 0, 5]\n",
    "df['Kids'] = kids_values\n",
    "print(df)"
   ]
  },
  {
   "cell_type": "markdown",
   "id": "18fe1e66",
   "metadata": {},
   "source": [
    "#### 8. Delete the 'Gender' column from the DataFrame."
   ]
  },
  {
   "cell_type": "code",
   "execution_count": 55,
   "id": "71a94a02",
   "metadata": {},
   "outputs": [
    {
     "data": {
      "text/html": [
       "<div>\n",
       "<style scoped>\n",
       "    .dataframe tbody tr th:only-of-type {\n",
       "        vertical-align: middle;\n",
       "    }\n",
       "\n",
       "    .dataframe tbody tr th {\n",
       "        vertical-align: top;\n",
       "    }\n",
       "\n",
       "    .dataframe thead th {\n",
       "        text-align: right;\n",
       "    }\n",
       "</style>\n",
       "<table border=\"1\" class=\"dataframe\">\n",
       "  <thead>\n",
       "    <tr style=\"text-align: right;\">\n",
       "      <th></th>\n",
       "      <th>Name</th>\n",
       "      <th>Age</th>\n",
       "      <th>Occupation</th>\n",
       "      <th>Salary</th>\n",
       "      <th>Kids</th>\n",
       "    </tr>\n",
       "  </thead>\n",
       "  <tbody>\n",
       "    <tr>\n",
       "      <th>0</th>\n",
       "      <td>Alice</td>\n",
       "      <td>25</td>\n",
       "      <td>Engineer</td>\n",
       "      <td>69188</td>\n",
       "      <td>2</td>\n",
       "    </tr>\n",
       "    <tr>\n",
       "      <th>1</th>\n",
       "      <td>Bob</td>\n",
       "      <td>30</td>\n",
       "      <td>Scientist</td>\n",
       "      <td>47568</td>\n",
       "      <td>4</td>\n",
       "    </tr>\n",
       "    <tr>\n",
       "      <th>2</th>\n",
       "      <td>Charlie</td>\n",
       "      <td>35</td>\n",
       "      <td>Artist</td>\n",
       "      <td>49769</td>\n",
       "      <td>0</td>\n",
       "    </tr>\n",
       "    <tr>\n",
       "      <th>3</th>\n",
       "      <td>Danielle</td>\n",
       "      <td>40</td>\n",
       "      <td>Teacher</td>\n",
       "      <td>58693</td>\n",
       "      <td>5</td>\n",
       "    </tr>\n",
       "  </tbody>\n",
       "</table>\n",
       "</div>"
      ],
      "text/plain": [
       "       Name  Age Occupation  Salary  Kids\n",
       "0     Alice   25   Engineer   69188     2\n",
       "1       Bob   30  Scientist   47568     4\n",
       "2   Charlie   35     Artist   49769     0\n",
       "3  Danielle   40    Teacher   58693     5"
      ]
     },
     "execution_count": 55,
     "metadata": {},
     "output_type": "execute_result"
    }
   ],
   "source": [
    "df = df.drop('Gender', axis=1)\n",
    "df"
   ]
  },
  {
   "cell_type": "markdown",
   "id": "821cd6ad",
   "metadata": {},
   "source": [
    "#### 9. Save the modified DataFrame to a new CSV file"
   ]
  },
  {
   "cell_type": "code",
   "execution_count": 56,
   "id": "f674e373",
   "metadata": {},
   "outputs": [],
   "source": [
    "df.to_csv('modified_data.csv', index=False)"
   ]
  },
  {
   "cell_type": "markdown",
   "id": "4c46acdf",
   "metadata": {},
   "source": [
    "## Data Engineering (Reindexing)"
   ]
  },
  {
   "cell_type": "markdown",
   "id": "67547fec",
   "metadata": {},
   "source": [
    "#### Exercise for Series reindexing:"
   ]
  },
  {
   "cell_type": "markdown",
   "id": "05ef9116",
   "metadata": {},
   "source": [
    "#### 1. Create a Series with the following data: data = [10, 20, 30, 40, 50]"
   ]
  },
  {
   "cell_type": "code",
   "execution_count": 57,
   "id": "b35c6881",
   "metadata": {},
   "outputs": [
    {
     "data": {
      "text/plain": [
       "0    10\n",
       "1    20\n",
       "2    30\n",
       "3    40\n",
       "4    50\n",
       "dtype: int64"
      ]
     },
     "execution_count": 57,
     "metadata": {},
     "output_type": "execute_result"
    }
   ],
   "source": [
    "data = [10, 20, 30, 40, 50]\n",
    "series = pd.Series(data)\n",
    "series"
   ]
  },
  {
   "cell_type": "markdown",
   "id": "731b4f3b",
   "metadata": {},
   "source": [
    "##### 2. Assign the following index labels to the Series: index = ['a', 'b', 'c', 'd', 'e']"
   ]
  },
  {
   "cell_type": "code",
   "execution_count": 58,
   "id": "21349612",
   "metadata": {},
   "outputs": [
    {
     "name": "stdout",
     "output_type": "stream",
     "text": [
      "a    10\n",
      "b    20\n",
      "c    30\n",
      "d    40\n",
      "e    50\n",
      "dtype: int64\n"
     ]
    }
   ],
   "source": [
    "data = [10, 20, 30, 40, 50]\n",
    "index = ['a', 'b', 'c', 'd', 'e']\n",
    "series = pd.Series(data, index=index)\n",
    "print(series)\n"
   ]
  },
  {
   "cell_type": "markdown",
   "id": "718972be",
   "metadata": {},
   "source": [
    "#### 3. Get the index of the Series using the index attribute"
   ]
  },
  {
   "cell_type": "code",
   "execution_count": 59,
   "id": "33e4e4b0",
   "metadata": {},
   "outputs": [
    {
     "data": {
      "text/plain": [
       "Index(['a', 'b', 'c', 'd', 'e'], dtype='object')"
      ]
     },
     "execution_count": 59,
     "metadata": {},
     "output_type": "execute_result"
    }
   ],
   "source": [
    "series_index = series.index\n",
    "series_index"
   ]
  },
  {
   "cell_type": "markdown",
   "id": "5e6c29a1",
   "metadata": {},
   "source": [
    "#### 4. Create a new index for the Series using the following labels: new_index = ['a', 'b', 'c', 'd', 'e', 'f', \n",
    "'g']"
   ]
  },
  {
   "cell_type": "code",
   "execution_count": 60,
   "id": "68e9ccc1",
   "metadata": {},
   "outputs": [
    {
     "data": {
      "text/plain": [
       "['a', 'b', 'c', 'd', 'e', 'f', 'g']"
      ]
     },
     "execution_count": 60,
     "metadata": {},
     "output_type": "execute_result"
    }
   ],
   "source": [
    "data = [10, 20, 30, 40, 50]\n",
    "index = ['a', 'b', 'c', 'd', 'e']\n",
    "new_index = ['a', 'b', 'c', 'd', 'e', 'f', 'g']\n",
    "new_index"
   ]
  },
  {
   "cell_type": "markdown",
   "id": "8ad45e58",
   "metadata": {},
   "source": [
    "#### 5. Call the reindex method on the Series with the new index and observe the output."
   ]
  },
  {
   "cell_type": "code",
   "execution_count": 61,
   "id": "ed539d90",
   "metadata": {},
   "outputs": [
    {
     "data": {
      "text/plain": [
       "a    10.0\n",
       "b    20.0\n",
       "c    30.0\n",
       "d    40.0\n",
       "e    50.0\n",
       "f     NaN\n",
       "g     NaN\n",
       "dtype: float64"
      ]
     },
     "execution_count": 61,
     "metadata": {},
     "output_type": "execute_result"
    }
   ],
   "source": [
    "series = pd.Series(data, index=index)\n",
    "new_series = series.reindex(new_index)\n",
    "new_series"
   ]
  },
  {
   "cell_type": "markdown",
   "id": "173ba41e",
   "metadata": {},
   "source": [
    "#### 6. Fill in values for the new indexes using a value of your choice"
   ]
  },
  {
   "cell_type": "code",
   "execution_count": 68,
   "id": "5b90e8d3",
   "metadata": {},
   "outputs": [
    {
     "data": {
      "text/plain": [
       "a    NaN\n",
       "b    NaN\n",
       "c    NaN\n",
       "d    NaN\n",
       "e    NaN\n",
       "f      0\n",
       "g      0\n",
       "dtype: object"
      ]
     },
     "execution_count": 68,
     "metadata": {},
     "output_type": "execute_result"
    }
   ],
   "source": [
    "fill_value = 0\n",
    "series = pd.Series(data, index=index)\n",
    "new_series = series.reindex(new_index, fill_value=fill_value)\n",
    "new_series"
   ]
  },
  {
   "cell_type": "markdown",
   "id": "95f28870",
   "metadata": {},
   "source": [
    "#### 7. Use the ffill method to fill the new indexes with the previous values in the Series"
   ]
  },
  {
   "cell_type": "code",
   "execution_count": 63,
   "id": "3f095a6a",
   "metadata": {},
   "outputs": [
    {
     "data": {
      "text/plain": [
       "a    10.0\n",
       "b    20.0\n",
       "c    30.0\n",
       "d    40.0\n",
       "e    50.0\n",
       "f    50.0\n",
       "g    50.0\n",
       "dtype: float64"
      ]
     },
     "execution_count": 63,
     "metadata": {},
     "output_type": "execute_result"
    }
   ],
   "source": [
    "series = pd.Series(data, index=index)\n",
    "new_series = series.reindex(new_index).ffill()\n",
    "new_series"
   ]
  },
  {
   "cell_type": "markdown",
   "id": "bd3537cb",
   "metadata": {},
   "source": [
    "### Exercise for DataFrame reindexing"
   ]
  },
  {
   "cell_type": "markdown",
   "id": "b02eaed8",
   "metadata": {},
   "source": [
    "### 1. Create a DataFrame with the following random values:\n",
    "##### import pandas as pd\n",
    "##### import numpy as np\n",
    "##### np.random.seed(123)\n",
    "##### data = {'A': np.random.randint(1, 10, 5), 'B': np.random.randint(1, 10, 5)}\n",
    "##### df = pd.DataFrame(data)"
   ]
  },
  {
   "cell_type": "code",
   "execution_count": 64,
   "id": "106ff7fb",
   "metadata": {},
   "outputs": [],
   "source": [
    "import pandas as pd\n",
    "import numpy as np"
   ]
  },
  {
   "cell_type": "code",
   "execution_count": 70,
   "id": "d0f13030",
   "metadata": {},
   "outputs": [
    {
     "data": {
      "text/html": [
       "<div>\n",
       "<style scoped>\n",
       "    .dataframe tbody tr th:only-of-type {\n",
       "        vertical-align: middle;\n",
       "    }\n",
       "\n",
       "    .dataframe tbody tr th {\n",
       "        vertical-align: top;\n",
       "    }\n",
       "\n",
       "    .dataframe thead th {\n",
       "        text-align: right;\n",
       "    }\n",
       "</style>\n",
       "<table border=\"1\" class=\"dataframe\">\n",
       "  <thead>\n",
       "    <tr style=\"text-align: right;\">\n",
       "      <th></th>\n",
       "      <th>A</th>\n",
       "      <th>B</th>\n",
       "    </tr>\n",
       "  </thead>\n",
       "  <tbody>\n",
       "    <tr>\n",
       "      <th>0</th>\n",
       "      <td>3</td>\n",
       "      <td>7</td>\n",
       "    </tr>\n",
       "    <tr>\n",
       "      <th>1</th>\n",
       "      <td>3</td>\n",
       "      <td>2</td>\n",
       "    </tr>\n",
       "    <tr>\n",
       "      <th>2</th>\n",
       "      <td>7</td>\n",
       "      <td>1</td>\n",
       "    </tr>\n",
       "    <tr>\n",
       "      <th>3</th>\n",
       "      <td>2</td>\n",
       "      <td>2</td>\n",
       "    </tr>\n",
       "    <tr>\n",
       "      <th>4</th>\n",
       "      <td>4</td>\n",
       "      <td>1</td>\n",
       "    </tr>\n",
       "  </tbody>\n",
       "</table>\n",
       "</div>"
      ],
      "text/plain": [
       "   A  B\n",
       "0  3  7\n",
       "1  3  2\n",
       "2  7  1\n",
       "3  2  2\n",
       "4  4  1"
      ]
     },
     "execution_count": 70,
     "metadata": {},
     "output_type": "execute_result"
    }
   ],
   "source": [
    "np.random.seed(123)\n",
    "data = {'A': np.random.randint(1, 10, 5), 'B': np.random.randint(1, 10, 5)}\n",
    "df = pd.DataFrame(data)\n",
    "df\n"
   ]
  },
  {
   "cell_type": "markdown",
   "id": "edecaaad",
   "metadata": {},
   "source": [
    "#### 1. Get the current index and columns of the DataFrame using the index and columns attributes"
   ]
  },
  {
   "cell_type": "code",
   "execution_count": 69,
   "id": "29c7bdc9",
   "metadata": {},
   "outputs": [
    {
     "name": "stdout",
     "output_type": "stream",
     "text": [
      "Current Index: RangeIndex(start=0, stop=5, step=1)\n",
      "Current Columns: Index(['A', 'B'], dtype='object')\n"
     ]
    }
   ],
   "source": [
    "current_index = df.index\n",
    "current_columns = df.columns\n",
    "print(\"Current Index:\", current_index)\n",
    "print(\"Current Columns:\", current_columns)"
   ]
  },
  {
   "cell_type": "markdown",
   "id": "77ed8039",
   "metadata": {},
   "source": [
    "#### 2. Create a new index for the DataFrame using the following labels: new_index = ['a', 'b', 'c', 'd', 'e']"
   ]
  },
  {
   "cell_type": "code",
   "execution_count": 80,
   "id": "b3542e40",
   "metadata": {},
   "outputs": [],
   "source": [
    "new_index = ['a', 'b', 'c', 'd', 'e']\n"
   ]
  },
  {
   "cell_type": "markdown",
   "id": "bec0c31c",
   "metadata": {},
   "source": [
    "##### 3. Call the reindex method on the DataFrame with the new index and observe the output."
   ]
  },
  {
   "cell_type": "code",
   "execution_count": 81,
   "id": "9e1999f2",
   "metadata": {},
   "outputs": [],
   "source": [
    "df_reindexed = df.reindex(new_index)"
   ]
  },
  {
   "cell_type": "code",
   "execution_count": 82,
   "id": "6dedf73b",
   "metadata": {},
   "outputs": [
    {
     "data": {
      "text/html": [
       "<div>\n",
       "<style scoped>\n",
       "    .dataframe tbody tr th:only-of-type {\n",
       "        vertical-align: middle;\n",
       "    }\n",
       "\n",
       "    .dataframe tbody tr th {\n",
       "        vertical-align: top;\n",
       "    }\n",
       "\n",
       "    .dataframe thead th {\n",
       "        text-align: right;\n",
       "    }\n",
       "</style>\n",
       "<table border=\"1\" class=\"dataframe\">\n",
       "  <thead>\n",
       "    <tr style=\"text-align: right;\">\n",
       "      <th></th>\n",
       "      <th>A</th>\n",
       "      <th>B</th>\n",
       "    </tr>\n",
       "  </thead>\n",
       "  <tbody>\n",
       "    <tr>\n",
       "      <th>a</th>\n",
       "      <td>NaN</td>\n",
       "      <td>NaN</td>\n",
       "    </tr>\n",
       "    <tr>\n",
       "      <th>b</th>\n",
       "      <td>NaN</td>\n",
       "      <td>NaN</td>\n",
       "    </tr>\n",
       "    <tr>\n",
       "      <th>c</th>\n",
       "      <td>NaN</td>\n",
       "      <td>NaN</td>\n",
       "    </tr>\n",
       "    <tr>\n",
       "      <th>d</th>\n",
       "      <td>NaN</td>\n",
       "      <td>NaN</td>\n",
       "    </tr>\n",
       "    <tr>\n",
       "      <th>e</th>\n",
       "      <td>NaN</td>\n",
       "      <td>NaN</td>\n",
       "    </tr>\n",
       "  </tbody>\n",
       "</table>\n",
       "</div>"
      ],
      "text/plain": [
       "    A   B\n",
       "a NaN NaN\n",
       "b NaN NaN\n",
       "c NaN NaN\n",
       "d NaN NaN\n",
       "e NaN NaN"
      ]
     },
     "execution_count": 82,
     "metadata": {},
     "output_type": "execute_result"
    }
   ],
   "source": [
    "df_reindexed"
   ]
  },
  {
   "cell_type": "markdown",
   "id": "f785407d",
   "metadata": {},
   "source": [
    "#### 4. Fill in values for the new indexes using a value of your choice."
   ]
  },
  {
   "cell_type": "code",
   "execution_count": 79,
   "id": "5740ace0",
   "metadata": {},
   "outputs": [
    {
     "data": {
      "text/html": [
       "<div>\n",
       "<style scoped>\n",
       "    .dataframe tbody tr th:only-of-type {\n",
       "        vertical-align: middle;\n",
       "    }\n",
       "\n",
       "    .dataframe tbody tr th {\n",
       "        vertical-align: top;\n",
       "    }\n",
       "\n",
       "    .dataframe thead th {\n",
       "        text-align: right;\n",
       "    }\n",
       "</style>\n",
       "<table border=\"1\" class=\"dataframe\">\n",
       "  <thead>\n",
       "    <tr style=\"text-align: right;\">\n",
       "      <th></th>\n",
       "      <th>A</th>\n",
       "      <th>B</th>\n",
       "    </tr>\n",
       "  </thead>\n",
       "  <tbody>\n",
       "    <tr>\n",
       "      <th>a</th>\n",
       "      <td>3.0</td>\n",
       "      <td>3.0</td>\n",
       "    </tr>\n",
       "    <tr>\n",
       "      <th>b</th>\n",
       "      <td>3.0</td>\n",
       "      <td>3.0</td>\n",
       "    </tr>\n",
       "    <tr>\n",
       "      <th>c</th>\n",
       "      <td>3.0</td>\n",
       "      <td>3.0</td>\n",
       "    </tr>\n",
       "    <tr>\n",
       "      <th>d</th>\n",
       "      <td>3.0</td>\n",
       "      <td>3.0</td>\n",
       "    </tr>\n",
       "    <tr>\n",
       "      <th>e</th>\n",
       "      <td>3.0</td>\n",
       "      <td>3.0</td>\n",
       "    </tr>\n",
       "  </tbody>\n",
       "</table>\n",
       "</div>"
      ],
      "text/plain": [
       "     A    B\n",
       "a  3.0  3.0\n",
       "b  3.0  3.0\n",
       "c  3.0  3.0\n",
       "d  3.0  3.0\n",
       "e  3.0  3.0"
      ]
     },
     "execution_count": 79,
     "metadata": {},
     "output_type": "execute_result"
    }
   ],
   "source": [
    "fill_value = 3\n",
    "df_filled = df_reindexed.fillna(fill_value)\n",
    "df_filled"
   ]
  },
  {
   "cell_type": "markdown",
   "id": "f5130336",
   "metadata": {},
   "source": [
    "##### 5. Use the ffill method to fill the new indexes with the previous values in the DataFrame's columns"
   ]
  },
  {
   "cell_type": "code",
   "execution_count": 85,
   "id": "dcc1033f",
   "metadata": {},
   "outputs": [
    {
     "data": {
      "text/html": [
       "<div>\n",
       "<style scoped>\n",
       "    .dataframe tbody tr th:only-of-type {\n",
       "        vertical-align: middle;\n",
       "    }\n",
       "\n",
       "    .dataframe tbody tr th {\n",
       "        vertical-align: top;\n",
       "    }\n",
       "\n",
       "    .dataframe thead th {\n",
       "        text-align: right;\n",
       "    }\n",
       "</style>\n",
       "<table border=\"1\" class=\"dataframe\">\n",
       "  <thead>\n",
       "    <tr style=\"text-align: right;\">\n",
       "      <th></th>\n",
       "      <th>A</th>\n",
       "      <th>B</th>\n",
       "    </tr>\n",
       "  </thead>\n",
       "  <tbody>\n",
       "    <tr>\n",
       "      <th>a</th>\n",
       "      <td>NaN</td>\n",
       "      <td>NaN</td>\n",
       "    </tr>\n",
       "    <tr>\n",
       "      <th>b</th>\n",
       "      <td>NaN</td>\n",
       "      <td>NaN</td>\n",
       "    </tr>\n",
       "    <tr>\n",
       "      <th>c</th>\n",
       "      <td>NaN</td>\n",
       "      <td>NaN</td>\n",
       "    </tr>\n",
       "    <tr>\n",
       "      <th>d</th>\n",
       "      <td>NaN</td>\n",
       "      <td>NaN</td>\n",
       "    </tr>\n",
       "    <tr>\n",
       "      <th>e</th>\n",
       "      <td>NaN</td>\n",
       "      <td>NaN</td>\n",
       "    </tr>\n",
       "  </tbody>\n",
       "</table>\n",
       "</div>"
      ],
      "text/plain": [
       "    A   B\n",
       "a NaN NaN\n",
       "b NaN NaN\n",
       "c NaN NaN\n",
       "d NaN NaN\n",
       "e NaN NaN"
      ]
     },
     "execution_count": 85,
     "metadata": {},
     "output_type": "execute_result"
    }
   ],
   "source": []
  },
  {
   "cell_type": "markdown",
   "id": "9d6af809",
   "metadata": {},
   "source": [
    "##### Data Engineering (Selecting Entries)"
   ]
  },
  {
   "cell_type": "markdown",
   "id": "aca9fe7b",
   "metadata": {},
   "source": [
    "##### Exercise for Series:"
   ]
  },
  {
   "cell_type": "markdown",
   "id": "677d3f2a",
   "metadata": {},
   "source": [
    "##### 1. Create a Series with the following data: data = [5, 10, 15, 20, 25, 30], index = ['a', 'b', 'c', 'd', 'e', \n",
    "'f']"
   ]
  },
  {
   "cell_type": "code",
   "execution_count": 87,
   "id": "0c9bf6b3",
   "metadata": {},
   "outputs": [
    {
     "data": {
      "text/plain": [
       "a     5\n",
       "b    10\n",
       "c    15\n",
       "d    20\n",
       "e    25\n",
       "f    30\n",
       "dtype: int64"
      ]
     },
     "execution_count": 87,
     "metadata": {},
     "output_type": "execute_result"
    }
   ],
   "source": [
    "data = [5, 10, 15, 20, 25, 30]\n",
    "index = ['a', 'b', 'c', 'd', 'e', 'f']\n",
    "series = pd.Series(data, index=index)\n",
    "series\n"
   ]
  },
  {
   "cell_type": "markdown",
   "id": "f3c674d1",
   "metadata": {},
   "source": [
    "##### 2. Grab the entry with index name 'c' from the Series."
   ]
  },
  {
   "cell_type": "code",
   "execution_count": 88,
   "id": "6535e419",
   "metadata": {},
   "outputs": [
    {
     "name": "stdout",
     "output_type": "stream",
     "text": [
      "15\n"
     ]
    }
   ],
   "source": [
    "entry_c = series.loc['c']\n",
    "print(entry_c)\n"
   ]
  },
  {
   "cell_type": "markdown",
   "id": "8150bce7",
   "metadata": {},
   "source": [
    "##### 3. Grab entries in the Series with index values ['a', 'c', 'f']"
   ]
  },
  {
   "cell_type": "code",
   "execution_count": 89,
   "id": "ea4eea16",
   "metadata": {},
   "outputs": [
    {
     "data": {
      "text/plain": [
       "a     5\n",
       "c    15\n",
       "f    30\n",
       "dtype: int64"
      ]
     },
     "execution_count": 89,
     "metadata": {},
     "output_type": "execute_result"
    }
   ],
   "source": [
    "entries = series.loc[['a', 'c', 'f']]\n",
    "entries"
   ]
  },
  {
   "cell_type": "markdown",
   "id": "f05700a1",
   "metadata": {},
   "source": [
    "###### 4. Grab entries in the Series based on index logic: entries greater than 15."
   ]
  },
  {
   "cell_type": "code",
   "execution_count": 90,
   "id": "8562d5fa",
   "metadata": {},
   "outputs": [
    {
     "data": {
      "text/plain": [
       "d    20\n",
       "e    25\n",
       "f    30\n",
       "dtype: int64"
      ]
     },
     "execution_count": 90,
     "metadata": {},
     "output_type": "execute_result"
    }
   ],
   "source": [
    "entries_greater_than_15 = series[series > 15]\n",
    "entries_greater_than_15"
   ]
  },
  {
   "cell_type": "markdown",
   "id": "447b03d8",
   "metadata": {},
   "source": [
    "###### 5. replace the value 10 by 100"
   ]
  },
  {
   "cell_type": "code",
   "execution_count": 91,
   "id": "3d48aa7f",
   "metadata": {},
   "outputs": [
    {
     "name": "stdout",
     "output_type": "stream",
     "text": [
      "a      5\n",
      "b    100\n",
      "c     15\n",
      "d     20\n",
      "e     25\n",
      "f     30\n",
      "dtype: int64\n"
     ]
    }
   ],
   "source": [
    "series_replaced = series.replace(10, 100)\n",
    "print(series_replaced)"
   ]
  },
  {
   "cell_type": "markdown",
   "id": "e00b4ae0",
   "metadata": {},
   "source": [
    "###### Exercise for DataFrames:"
   ]
  },
  {
   "cell_type": "markdown",
   "id": "c6a512c6",
   "metadata": {},
   "source": [
    "###### 1. Create a DataFrame with the following data: data = {'A': [1, 2, 3, 4, 5], 'B': [10, 20, 30, 40, 50], 'C': \n",
    "[100, 200, 300, 400, 500]}, index = ['a', 'b', 'c', 'd', 'e']"
   ]
  },
  {
   "cell_type": "code",
   "execution_count": 92,
   "id": "7f73c63e",
   "metadata": {},
   "outputs": [
    {
     "name": "stdout",
     "output_type": "stream",
     "text": [
      "   A   B    C\n",
      "a  1  10  100\n",
      "b  2  20  200\n",
      "c  3  30  300\n",
      "d  4  40  400\n",
      "e  5  50  500\n"
     ]
    }
   ],
   "source": [
    "data = {'A': [1, 2, 3, 4, 5], 'B': [10, 20, 30, 40, 50], 'C': [100, 200, 300, 400, 500]}\n",
    "index = ['a', 'b', 'c', 'd', 'e']\n",
    "df = pd.DataFrame(data, index=index)\n",
    "print(df)\n"
   ]
  },
  {
   "cell_type": "markdown",
   "id": "5718467f",
   "metadata": {},
   "source": [
    "###### 2. Grab the row with index label 'c' from the DataFrame."
   ]
  },
  {
   "cell_type": "code",
   "execution_count": 93,
   "id": "6c7e4416",
   "metadata": {},
   "outputs": [
    {
     "name": "stdout",
     "output_type": "stream",
     "text": [
      "A      3\n",
      "B     30\n",
      "C    300\n",
      "Name: c, dtype: int64\n"
     ]
    }
   ],
   "source": [
    "row_c = df.loc['c']\n",
    "print(row_c)\n"
   ]
  },
  {
   "cell_type": "markdown",
   "id": "6def7e7f",
   "metadata": {},
   "source": [
    "###### 3. Grab rows in the DataFrame with index range 'b' to 'e'"
   ]
  },
  {
   "cell_type": "code",
   "execution_count": 94,
   "id": "88350609",
   "metadata": {},
   "outputs": [
    {
     "name": "stdout",
     "output_type": "stream",
     "text": [
      "   A   B    C\n",
      "b  2  20  200\n",
      "c  3  30  300\n",
      "d  4  40  400\n",
      "e  5  50  500\n"
     ]
    }
   ],
   "source": [
    "rows_b_2_e = df.loc['b':'e']\n",
    "print(rows_b_2_e )\n"
   ]
  },
  {
   "cell_type": "markdown",
   "id": "78b0a0f5",
   "metadata": {},
   "source": [
    "###### 4. Grab rows in the DataFrame with index values ['a', 'c', 'e']."
   ]
  },
  {
   "cell_type": "code",
   "execution_count": 95,
   "id": "140ba47e",
   "metadata": {},
   "outputs": [
    {
     "name": "stdout",
     "output_type": "stream",
     "text": [
      "   A   B    C\n",
      "a  1  10  100\n",
      "c  3  30  300\n",
      "e  5  50  500\n"
     ]
    }
   ],
   "source": [
    "rows = df.loc[['a', 'c', 'e']]\n",
    "print(rows)"
   ]
  },
  {
   "cell_type": "markdown",
   "id": "2d60a463",
   "metadata": {},
   "source": [
    "###### 5. Grab rows in the DataFrame based on index logic: rows where the value in column 'A' is greater than 2"
   ]
  },
  {
   "cell_type": "code",
   "execution_count": 96,
   "id": "bd0eb649",
   "metadata": {},
   "outputs": [
    {
     "name": "stdout",
     "output_type": "stream",
     "text": [
      "   A   B    C\n",
      "c  3  30  300\n",
      "d  4  40  400\n",
      "e  5  50  500\n"
     ]
    }
   ],
   "source": [
    "rows_greater_than_2 = df[df['A'] > 2]\n",
    "print(rows_greater_than_2)"
   ]
  },
  {
   "cell_type": "markdown",
   "id": "16e31a14",
   "metadata": {},
   "source": [
    "##### 6. Grab rows in the DataFrame based on index logic: rows where the value in column 'A' is greater than 2 and 'B' less than 50"
   ]
  },
  {
   "cell_type": "code",
   "execution_count": 97,
   "id": "d2951cda",
   "metadata": {},
   "outputs": [
    {
     "name": "stdout",
     "output_type": "stream",
     "text": [
      "   A   B    C\n",
      "c  3  30  300\n",
      "d  4  40  400\n"
     ]
    }
   ],
   "source": [
    "logic_conditions = df[(df['A'] > 2) & (df['B'] < 50)]\n",
    "print(logic_conditions)\n"
   ]
  },
  {
   "cell_type": "markdown",
   "id": "e2e9afea",
   "metadata": {},
   "source": [
    "#### 7. Drop column 'A' from the data frame"
   ]
  },
  {
   "cell_type": "code",
   "execution_count": 100,
   "id": "e00efc04",
   "metadata": {},
   "outputs": [
    {
     "data": {
      "text/html": [
       "<div>\n",
       "<style scoped>\n",
       "    .dataframe tbody tr th:only-of-type {\n",
       "        vertical-align: middle;\n",
       "    }\n",
       "\n",
       "    .dataframe tbody tr th {\n",
       "        vertical-align: top;\n",
       "    }\n",
       "\n",
       "    .dataframe thead th {\n",
       "        text-align: right;\n",
       "    }\n",
       "</style>\n",
       "<table border=\"1\" class=\"dataframe\">\n",
       "  <thead>\n",
       "    <tr style=\"text-align: right;\">\n",
       "      <th></th>\n",
       "      <th>B</th>\n",
       "      <th>C</th>\n",
       "    </tr>\n",
       "  </thead>\n",
       "  <tbody>\n",
       "    <tr>\n",
       "      <th>a</th>\n",
       "      <td>10</td>\n",
       "      <td>100</td>\n",
       "    </tr>\n",
       "    <tr>\n",
       "      <th>b</th>\n",
       "      <td>20</td>\n",
       "      <td>200</td>\n",
       "    </tr>\n",
       "    <tr>\n",
       "      <th>c</th>\n",
       "      <td>30</td>\n",
       "      <td>300</td>\n",
       "    </tr>\n",
       "    <tr>\n",
       "      <th>d</th>\n",
       "      <td>40</td>\n",
       "      <td>400</td>\n",
       "    </tr>\n",
       "    <tr>\n",
       "      <th>e</th>\n",
       "      <td>50</td>\n",
       "      <td>500</td>\n",
       "    </tr>\n",
       "  </tbody>\n",
       "</table>\n",
       "</div>"
      ],
      "text/plain": [
       "    B    C\n",
       "a  10  100\n",
       "b  20  200\n",
       "c  30  300\n",
       "d  40  400\n",
       "e  50  500"
      ]
     },
     "execution_count": 100,
     "metadata": {},
     "output_type": "execute_result"
    }
   ],
   "source": [
    "df_dropped = df.drop('A', axis=1)\n",
    "df_dropped\n"
   ]
  },
  {
   "cell_type": "markdown",
   "id": "658eea23",
   "metadata": {},
   "source": [
    "###### 8. drop raw 'e' from the data frame"
   ]
  },
  {
   "cell_type": "code",
   "execution_count": 101,
   "id": "ee6804ee",
   "metadata": {},
   "outputs": [
    {
     "name": "stdout",
     "output_type": "stream",
     "text": [
      "   A   B    C\n",
      "a  1  10  100\n",
      "b  2  20  200\n",
      "c  3  30  300\n",
      "d  4  40  400\n"
     ]
    }
   ],
   "source": [
    "df_dropped = df.drop('e', axis=0)\n",
    "print(df_dropped)"
   ]
  }
 ],
 "metadata": {
  "kernelspec": {
   "display_name": "Python 3 (ipykernel)",
   "language": "python",
   "name": "python3"
  },
  "language_info": {
   "codemirror_mode": {
    "name": "ipython",
    "version": 3
   },
   "file_extension": ".py",
   "mimetype": "text/x-python",
   "name": "python",
   "nbconvert_exporter": "python",
   "pygments_lexer": "ipython3",
   "version": "3.10.9"
  }
 },
 "nbformat": 4,
 "nbformat_minor": 5
}
