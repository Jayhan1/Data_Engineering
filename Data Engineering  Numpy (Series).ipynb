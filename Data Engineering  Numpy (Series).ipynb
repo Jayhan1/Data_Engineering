{
 "cells": [
  {
   "cell_type": "markdown",
   "id": "bc25b7da",
   "metadata": {},
   "source": [
    "##### Series"
   ]
  },
  {
   "cell_type": "code",
   "execution_count": 1,
   "id": "b28e98fa",
   "metadata": {},
   "outputs": [],
   "source": [
    " import numpy as np\n",
    "import pandas as pd\n",
    "from pandas import Series,DataFrame"
   ]
  },
  {
   "cell_type": "code",
   "execution_count": 3,
   "id": "c9342fe1",
   "metadata": {},
   "outputs": [
    {
     "data": {
      "text/plain": [
       "0     2\n",
       "1     4\n",
       "2     6\n",
       "3     8\n",
       "4    10\n",
       "dtype: int64"
      ]
     },
     "execution_count": 3,
     "metadata": {},
     "output_type": "execute_result"
    }
   ],
   "source": [
    "object = Series([2,4,6,8,10])\n",
    "\n",
    "object\n"
   ]
  },
  {
   "cell_type": "code",
   "execution_count": 5,
   "id": "fdc1aea6",
   "metadata": {},
   "outputs": [
    {
     "data": {
      "text/plain": [
       "array([ 2,  4,  6,  8, 10], dtype=int64)"
      ]
     },
     "execution_count": 5,
     "metadata": {},
     "output_type": "execute_result"
    }
   ],
   "source": [
    "object.values"
   ]
  },
  {
   "cell_type": "code",
   "execution_count": 7,
   "id": "2086a77a",
   "metadata": {},
   "outputs": [
    {
     "data": {
      "text/plain": [
       "RangeIndex(start=0, stop=5, step=1)"
      ]
     },
     "execution_count": 7,
     "metadata": {},
     "output_type": "execute_result"
    }
   ],
   "source": [
    "object.index\n"
   ]
  },
  {
   "cell_type": "code",
   "execution_count": null,
   "id": "79304d9e",
   "metadata": {},
   "outputs": [],
   "source": [
    "Subjects =['Music','Art','Islamic','Science','Computer','math']"
   ]
  },
  {
   "cell_type": "code",
   "execution_count": 9,
   "id": "ccf7fff1",
   "metadata": {},
   "outputs": [
    {
     "name": "stdout",
     "output_type": "stream",
     "text": [
      "Music       87\n",
      "Art         43\n",
      "Islamic     30\n",
      "Science     21\n",
      "Computer    90\n",
      "math        88\n",
      "dtype: int64\n"
     ]
    }
   ],
   "source": [
    "Marks = Series([87,43,30,21,90,88],index=['Music','Art','Islamic','Science','Computer','math'])\n",
    "print(Marks)"
   ]
  },
  {
   "cell_type": "code",
   "execution_count": 21,
   "id": "d91bbdea",
   "metadata": {},
   "outputs": [
    {
     "name": "stdout",
     "output_type": "stream",
     "text": [
      "Music               87\n",
      "Art                 43\n",
      "Islamic             30\n",
      "Science             21\n",
      "Computer Science    90\n",
      "math                88\n",
      "dtype: int64\n"
     ]
    }
   ],
   "source": [
    "Marks = Series([87,43,30,21,90,88],index=['Music','Art','Islamic','Science','Computer Science','math'])\n",
    "print(Marks)"
   ]
  },
  {
   "cell_type": "code",
   "execution_count": 11,
   "id": "6ba3cf92",
   "metadata": {},
   "outputs": [
    {
     "data": {
      "text/plain": [
       "87"
      ]
     },
     "execution_count": 11,
     "metadata": {},
     "output_type": "execute_result"
    }
   ],
   "source": [
    "Marks['Music']\n"
   ]
  },
  {
   "cell_type": "code",
   "execution_count": 22,
   "id": "e51bd478",
   "metadata": {},
   "outputs": [
    {
     "data": {
      "text/plain": [
       "90"
      ]
     },
     "execution_count": 22,
     "metadata": {},
     "output_type": "execute_result"
    }
   ],
   "source": [
    "Marks['Computer Science']"
   ]
  },
  {
   "cell_type": "code",
   "execution_count": 23,
   "id": "073c3745",
   "metadata": {},
   "outputs": [
    {
     "data": {
      "text/plain": [
       "Music               87\n",
       "Computer Science    90\n",
       "math                88\n",
       "dtype: int64"
      ]
     },
     "execution_count": 23,
     "metadata": {},
     "output_type": "execute_result"
    }
   ],
   "source": [
    "Marks[Marks>50]"
   ]
  },
  {
   "cell_type": "code",
   "execution_count": 24,
   "id": "a08ceeb1",
   "metadata": {},
   "outputs": [
    {
     "data": {
      "text/plain": [
       "True"
      ]
     },
     "execution_count": 24,
     "metadata": {},
     "output_type": "execute_result"
    }
   ],
   "source": [
    "'Music' in Marks"
   ]
  },
  {
   "cell_type": "code",
   "execution_count": 25,
   "id": "a74fe61f",
   "metadata": {},
   "outputs": [
    {
     "data": {
      "text/plain": [
       "Computer Science    90\n",
       "dtype: int64"
      ]
     },
     "execution_count": 25,
     "metadata": {},
     "output_type": "execute_result"
    }
   ],
   "source": [
    "\n",
    "Marks[Marks == 90]"
   ]
  },
  {
   "cell_type": "code",
   "execution_count": 27,
   "id": "6f92290d",
   "metadata": {},
   "outputs": [
    {
     "data": {
      "text/plain": [
       "{'Music': 87,\n",
       " 'Art': 43,\n",
       " 'Islamic': 30,\n",
       " 'Science': 21,\n",
       " 'Computer Science': 90,\n",
       " 'math': 88}"
      ]
     },
     "execution_count": 27,
     "metadata": {},
     "output_type": "execute_result"
    }
   ],
   "source": [
    "Subjec_dict = Marks.to_dict()\n",
    "\n",
    "Subjec_dict"
   ]
  },
  {
   "cell_type": "code",
   "execution_count": 29,
   "id": "3b0d46f4",
   "metadata": {},
   "outputs": [
    {
     "data": {
      "text/plain": [
       "Music               87\n",
       "Art                 43\n",
       "Islamic             30\n",
       "Science             21\n",
       "Computer Science    90\n",
       "math                88\n",
       "dtype: int64"
      ]
     },
     "execution_count": 29,
     "metadata": {},
     "output_type": "execute_result"
    }
   ],
   "source": [
    "Subject_Series = Series(Subjec_dict)\n",
    "Subject_Series"
   ]
  },
  {
   "cell_type": "markdown",
   "id": "079bd542",
   "metadata": {},
   "source": [
    "#### Create a Series using the following data: data = [10, 20, 30, 40, 50]"
   ]
  },
  {
   "cell_type": "code",
   "execution_count": 32,
   "id": "8b4834d6",
   "metadata": {},
   "outputs": [
    {
     "name": "stdout",
     "output_type": "stream",
     "text": [
      "0    10\n",
      "1    20\n",
      "2    30\n",
      "3    40\n",
      "4    50\n",
      "dtype: int64\n"
     ]
    }
   ],
   "source": [
    "data = [10, 20, 30, 40, 50]\n",
    "series = pd.Series(data)\n",
    "\n",
    "print(series)\n"
   ]
  },
  {
   "cell_type": "markdown",
   "id": "ae87505b",
   "metadata": {},
   "source": [
    "#### Assign the following index labels to the Series: index = ['a', 'b', 'c', 'd', 'e']"
   ]
  },
  {
   "cell_type": "code",
   "execution_count": 33,
   "id": "60d14bf5",
   "metadata": {},
   "outputs": [
    {
     "name": "stdout",
     "output_type": "stream",
     "text": [
      "a    10\n",
      "b    20\n",
      "c    30\n",
      "d    40\n",
      "e    50\n",
      "dtype: int64\n"
     ]
    }
   ],
   "source": [
    "data = [10, 20, 30, 40, 50]\n",
    "index = ['a', 'b', 'c', 'd', 'e']\n",
    "series = pd.Series(data, index=index)\n",
    "\n",
    "print(series)\n"
   ]
  },
  {
   "cell_type": "markdown",
   "id": "07595295",
   "metadata": {},
   "source": [
    "#### Use index values to select the values of the Series for the labels 'b' and 'e'."
   ]
  },
  {
   "cell_type": "code",
   "execution_count": 34,
   "id": "dab07713",
   "metadata": {},
   "outputs": [
    {
     "name": "stdout",
     "output_type": "stream",
     "text": [
      "Value at index 'b': 20\n",
      "Value at index 'e': 50\n"
     ]
    }
   ],
   "source": [
    "data = [10, 20, 30, 40, 50]\n",
    "index = ['a', 'b', 'c', 'd', 'e']\n",
    "series = pd.Series(data, index=index)\n",
    "\n",
    "value_b = series.loc['b']\n",
    "value_e = series.loc['e']\n",
    "\n",
    "print(\"Value at index 'b':\", value_b)\n",
    "print(\"Value at index 'e':\", value_e)\n"
   ]
  },
  {
   "cell_type": "markdown",
   "id": "e1a0a93c",
   "metadata": {},
   "source": [
    "#### Check if the Series contains the value 20 using a boolean array.\n"
   ]
  },
  {
   "cell_type": "code",
   "execution_count": 35,
   "id": "f9c64bcf",
   "metadata": {},
   "outputs": [
    {
     "name": "stdout",
     "output_type": "stream",
     "text": [
      "a    False\n",
      "b     True\n",
      "c    False\n",
      "d    False\n",
      "e    False\n",
      "dtype: bool\n"
     ]
    }
   ],
   "source": [
    "data = [10, 20, 30, 40, 50]\n",
    "index = ['a', 'b', 'c', 'd', 'e']\n",
    "series = pd.Series(data, index=index)\n",
    "\n",
    "contains_20 = series == 20\n",
    "\n",
    "print(contains_20)\n"
   ]
  },
  {
   "cell_type": "markdown",
   "id": "f1d30a80",
   "metadata": {},
   "source": [
    "##### Check if the Series contains the values 15 and 20 using a boolean array."
   ]
  },
  {
   "cell_type": "code",
   "execution_count": 36,
   "id": "a8551f8d",
   "metadata": {},
   "outputs": [
    {
     "name": "stdout",
     "output_type": "stream",
     "text": [
      "a    False\n",
      "b     True\n",
      "c    False\n",
      "d    False\n",
      "e    False\n",
      "dtype: bool\n"
     ]
    }
   ],
   "source": [
    "data = [10, 20, 30, 40, 50]\n",
    "index = ['a', 'b', 'c', 'd', 'e']\n",
    "series = pd.Series(data, index=index)\n",
    "\n",
    "contains_15_20 = series.isin([15, 20])\n",
    "\n",
    "print(contains_15_20)\n"
   ]
  },
  {
   "cell_type": "markdown",
   "id": "4133057f",
   "metadata": {},
   "source": [
    "#### Add the value 5 to each element of the Series using array operations."
   ]
  },
  {
   "cell_type": "code",
   "execution_count": 37,
   "id": "ec18a943",
   "metadata": {},
   "outputs": [
    {
     "name": "stdout",
     "output_type": "stream",
     "text": [
      "a    15\n",
      "b    25\n",
      "c    35\n",
      "d    45\n",
      "e    55\n",
      "dtype: int64\n"
     ]
    }
   ],
   "source": [
    "data = [10, 20, 30, 40, 50]\n",
    "index = ['a', 'b', 'c', 'd', 'e']\n",
    "series = pd.Series(data, index=index)\n",
    "\n",
    "series = series + 5\n",
    "\n",
    "print(series)\n"
   ]
  },
  {
   "cell_type": "markdown",
   "id": "8e9c8af4",
   "metadata": {},
   "source": [
    "#### Convert the Series into a Python dictionary and check its values.\n"
   ]
  },
  {
   "cell_type": "code",
   "execution_count": 38,
   "id": "40a2603a",
   "metadata": {},
   "outputs": [
    {
     "name": "stdout",
     "output_type": "stream",
     "text": [
      "dict_values([10, 20, 30, 40, 50])\n"
     ]
    }
   ],
   "source": [
    "data = [10, 20, 30, 40, 50]\n",
    "index = ['a', 'b', 'c', 'd', 'e']\n",
    "series = pd.Series(data, index=index)\n",
    "\n",
    "series_dict = series.to_dict()\n",
    "\n",
    "print(series_dict.values())\n"
   ]
  },
  {
   "cell_type": "markdown",
   "id": "97cb4781",
   "metadata": {},
   "source": [
    "#### Pass a dictionary to the Series constructor and assign the following keys and values: {'a': 10, 'b': 20, 'c': 30, 'd': 40, 'e': 50, 'f': 60}\n"
   ]
  },
  {
   "cell_type": "code",
   "execution_count": 40,
   "id": "544d29f1",
   "metadata": {},
   "outputs": [
    {
     "name": "stdout",
     "output_type": "stream",
     "text": [
      "a    10\n",
      "b    20\n",
      "c    30\n",
      "d    40\n",
      "e    50\n",
      "f    60\n",
      "dtype: int64\n"
     ]
    }
   ],
   "source": [
    "data_dict = {'a': 10, 'b': 20, 'c': 30, 'd': 40, 'e': 50, 'f': 60}\n",
    "\n",
    "series = pd.Series(data_dict)\n",
    "\n",
    "print(series)\n"
   ]
  },
  {
   "cell_type": "markdown",
   "id": "b4ef481c",
   "metadata": {},
   "source": [
    "#### Check if any values in the Series are null or not null using isnull() and notnull() methods"
   ]
  },
  {
   "cell_type": "code",
   "execution_count": 41,
   "id": "ba6e8d7a",
   "metadata": {},
   "outputs": [
    {
     "name": "stdout",
     "output_type": "stream",
     "text": [
      "Null values:\n",
      "a    False\n",
      "b    False\n",
      "c     True\n",
      "d    False\n",
      "e     True\n",
      "f    False\n",
      "dtype: bool\n",
      "\n",
      "Not null values:\n",
      "a     True\n",
      "b     True\n",
      "c    False\n",
      "d     True\n",
      "e    False\n",
      "f     True\n",
      "dtype: bool\n"
     ]
    }
   ],
   "source": [
    "data = [10, 20, None, 40, None, 60]\n",
    "index = ['a', 'b', 'c', 'd', 'e', 'f']\n",
    "series = pd.Series(data, index=index)\n",
    "\n",
    "has_null = series.isnull()\n",
    "\n",
    "not_null = series.notnull()\n",
    "\n",
    "print(\"Null values:\")\n",
    "print(has_null)\n",
    "print(\"\\nNot null values:\")\n",
    "print(not_null)\n"
   ]
  },
  {
   "cell_type": "markdown",
   "id": "ffccc419",
   "metadata": {},
   "source": [
    "#### Create another Series using the following data: data2 = [20, 30, 40, 50, 60]"
   ]
  },
  {
   "cell_type": "code",
   "execution_count": 42,
   "id": "b01863c3",
   "metadata": {},
   "outputs": [
    {
     "name": "stdout",
     "output_type": "stream",
     "text": [
      "0    20\n",
      "1    30\n",
      "2    40\n",
      "3    50\n",
      "4    60\n",
      "dtype: int64\n"
     ]
    }
   ],
   "source": [
    "data2 = [20, 30, 40, 50, 60]\n",
    "series2 = pd.Series(data2)\n",
    "\n",
    "print(series2)\n"
   ]
  },
  {
   "cell_type": "markdown",
   "id": "b4715996",
   "metadata": {},
   "source": [
    "#### Assign the following index labels to the second Series: index2 = ['b', 'c', 'd', 'e', 'f']"
   ]
  },
  {
   "cell_type": "code",
   "execution_count": 43,
   "id": "6b84233c",
   "metadata": {},
   "outputs": [
    {
     "name": "stdout",
     "output_type": "stream",
     "text": [
      "b    20\n",
      "c    30\n",
      "d    40\n",
      "e    50\n",
      "f    60\n",
      "dtype: int64\n"
     ]
    }
   ],
   "source": [
    "data2 = [20, 30, 40, 50, 60]\n",
    "index2 = ['b', 'c', 'd', 'e', 'f']\n",
    "series2 = pd.Series(data2, index=index2)\n",
    "\n",
    "print(series2)\n"
   ]
  },
  {
   "cell_type": "markdown",
   "id": "b85f92be",
   "metadata": {},
   "source": [
    "#### Add the two Series together and observe how pandas automatically aligns the data based on their index labels"
   ]
  },
  {
   "cell_type": "code",
   "execution_count": 44,
   "id": "29040a4a",
   "metadata": {},
   "outputs": [
    {
     "name": "stdout",
     "output_type": "stream",
     "text": [
      "a      NaN\n",
      "b     40.0\n",
      "c     60.0\n",
      "d     80.0\n",
      "e    100.0\n",
      "f      NaN\n",
      "dtype: float64\n"
     ]
    }
   ],
   "source": [
    "data1 = [10, 20, 30, 40, 50]\n",
    "index1 = ['a', 'b', 'c', 'd', 'e']\n",
    "series1 = pd.Series(data1, index=index1)\n",
    "\n",
    "data2 = [20, 30, 40, 50, 60]\n",
    "index2 = ['b', 'c', 'd', 'e', 'f']\n",
    "series2 = pd.Series(data2, index=index2)\n",
    "\n",
    "result = series1 + series2\n",
    "\n",
    "print(result)\n"
   ]
  },
  {
   "cell_type": "markdown",
   "id": "4626f84d",
   "metadata": {},
   "source": [
    "#### Use the unique() method to find the unique values in the Series.\n"
   ]
  },
  {
   "cell_type": "code",
   "execution_count": 45,
   "id": "bb589101",
   "metadata": {},
   "outputs": [
    {
     "name": "stdout",
     "output_type": "stream",
     "text": [
      "[10 20 30 40 50]\n"
     ]
    }
   ],
   "source": [
    "data = [10, 20, 30, 40, 50, 20, 30]\n",
    "index = ['a', 'b', 'c', 'd', 'e', 'f', 'g']\n",
    "series = pd.Series(data, index=index)\n",
    "\n",
    "unique_values = series.unique()\n",
    "\n",
    "print(unique_values)\n"
   ]
  },
  {
   "cell_type": "markdown",
   "id": "c56953e9",
   "metadata": {},
   "source": [
    "#### Use the sort_values() method to sort the Series in ascending order by value.\n"
   ]
  },
  {
   "cell_type": "code",
   "execution_count": 46,
   "id": "7a563c3d",
   "metadata": {},
   "outputs": [
    {
     "name": "stdout",
     "output_type": "stream",
     "text": [
      "b    10\n",
      "d    20\n",
      "a    30\n",
      "c    40\n",
      "e    50\n",
      "dtype: int64\n"
     ]
    }
   ],
   "source": [
    "data = [30, 10, 40, 20, 50]\n",
    "index = ['a', 'b', 'c', 'd', 'e']\n",
    "series = pd.Series(data, index=index)\n",
    "\n",
    "sorted_series = series.sort_values()\n",
    "\n",
    "print(sorted_series)\n"
   ]
  },
  {
   "cell_type": "markdown",
   "id": "eca4fff6",
   "metadata": {},
   "source": [
    "#### Save the Series to a text file using the to_csv() method"
   ]
  },
  {
   "cell_type": "code",
   "execution_count": 47,
   "id": "a97f9bf1",
   "metadata": {},
   "outputs": [
    {
     "name": "stdout",
     "output_type": "stream",
     "text": [
      "Series saved to file.\n"
     ]
    }
   ],
   "source": [
    "data = [10, 20, 30, 40, 50]\n",
    "index = ['a', 'b', 'c', 'd', 'e']\n",
    "series = pd.Series(data, index=index)\n",
    "\n",
    "series.to_csv('my_series.txt', header=False)\n",
    "\n",
    "print(\"Series saved to file.\")\n"
   ]
  },
  {
   "cell_type": "code",
   "execution_count": null,
   "id": "f2cceb1f",
   "metadata": {},
   "outputs": [],
   "source": []
  }
 ],
 "metadata": {
  "kernelspec": {
   "display_name": "Python 3 (ipykernel)",
   "language": "python",
   "name": "python3"
  },
  "language_info": {
   "codemirror_mode": {
    "name": "ipython",
    "version": 3
   },
   "file_extension": ".py",
   "mimetype": "text/x-python",
   "name": "python",
   "nbconvert_exporter": "python",
   "pygments_lexer": "ipython3",
   "version": "3.10.9"
  }
 },
 "nbformat": 4,
 "nbformat_minor": 5
}
