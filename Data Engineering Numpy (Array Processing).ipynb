{
 "cells": [
  {
   "cell_type": "markdown",
   "id": "77085c26",
   "metadata": {},
   "source": [
    "#### Data Engineering Numpy (Array Processing)\n"
   ]
  },
  {
   "cell_type": "markdown",
   "id": "f65f6671",
   "metadata": {},
   "source": [
    "#### 1. Create a NumPy array with 10 random integers between 0 and 100."
   ]
  },
  {
   "cell_type": "code",
   "execution_count": 2,
   "id": "201b6f90",
   "metadata": {},
   "outputs": [
    {
     "name": "stdout",
     "output_type": "stream",
     "text": [
      "[75 56 57 29  4 48 98 78 21 72]\n"
     ]
    }
   ],
   "source": [
    "import numpy as np\n",
    "\n",
    "array = np.random.randint(0, 101, size=10)\n",
    "\n",
    "print(array)\n"
   ]
  },
  {
   "cell_type": "markdown",
   "id": "a590777b",
   "metadata": {},
   "source": [
    "#### 2. Use the np.where() function to create a new array with the same shape as the previous one, where values less than 50 are replaced with -1 and values greater than or equal to 50 are replaced with 1."
   ]
  },
  {
   "cell_type": "code",
   "execution_count": 4,
   "id": "c84bab4d",
   "metadata": {},
   "outputs": [
    {
     "name": "stdout",
     "output_type": "stream",
     "text": [
      "Original array:\n",
      "[85 27 10 59 20 42 27 43 75  8]\n",
      "\n",
      "New array:\n",
      "[ 1 -1 -1  1 -1 -1 -1 -1  1 -1]\n"
     ]
    }
   ],
   "source": [
    "\n",
    "array = np.random.randint(0, 101, size=10)\n",
    "\n",
    "print(\"Original array:\")\n",
    "print(array)\n",
    "\n",
    "new_array = np.where(array < 50, -1, 1)\n",
    "\n",
    "print(\"\\nNew array:\")\n",
    "print(new_array)\n"
   ]
  },
  {
   "cell_type": "markdown",
   "id": "4554460f",
   "metadata": {},
   "source": [
    "#### 3. Calculate the mean, median, and standard deviation of the original array."
   ]
  },
  {
   "cell_type": "code",
   "execution_count": 5,
   "id": "47d1d4a4",
   "metadata": {},
   "outputs": [
    {
     "name": "stdout",
     "output_type": "stream",
     "text": [
      "Original array:\n",
      "[46 34 35 97 26 18  0 68 69 73]\n",
      "\n",
      "Mean: 46.6\n",
      "Median: 40.5\n",
      "Standard Deviation: 28.11476480428033\n"
     ]
    }
   ],
   "source": [
    "\n",
    "arr = np.random.randint(0, 101, size=10)\n",
    "\n",
    "print(\"Original array:\")\n",
    "print(arr)\n",
    "\n",
    "mean = np.mean(arr)\n",
    "\n",
    "median = np.median(arr)\n",
    "\n",
    "std_dev = np.std(arr)\n",
    "\n",
    "print(\"\\nMean:\", mean)\n",
    "print(\"Median:\", median)\n",
    "print(\"Standard Deviation:\", std_dev)\n"
   ]
  },
  {
   "cell_type": "markdown",
   "id": "cbd8e98d",
   "metadata": {},
   "source": [
    "#### 4. Create a boolean array that is True where the values in the original array are even, and False otherwise."
   ]
  },
  {
   "cell_type": "code",
   "execution_count": 6,
   "id": "7fce94c9",
   "metadata": {},
   "outputs": [
    {
     "name": "stdout",
     "output_type": "stream",
     "text": [
      "Original array:\n",
      "[48  1  3 67 82 63 31  8 69 68]\n",
      "\n",
      "Boolean array:\n",
      "[ True False False False  True False False  True False  True]\n"
     ]
    }
   ],
   "source": [
    "\n",
    "array = np.random.randint(0, 101, size=10)\n",
    "\n",
    "print(\"Original array:\")\n",
    "print(array)\n",
    "\n",
    "boolean_array = array % 2 == 0\n",
    "\n",
    "print(\"\\nBoolean array:\")\n",
    "print(boolean_array)\n"
   ]
  },
  {
   "cell_type": "markdown",
   "id": "16dcd29c",
   "metadata": {},
   "source": [
    "#### 5. Sort the original array in ascending order."
   ]
  },
  {
   "cell_type": "code",
   "execution_count": 7,
   "id": "1ebca444",
   "metadata": {},
   "outputs": [
    {
     "data": {
      "text/plain": [
       "array([1, 2, 5, 7, 9])"
      ]
     },
     "execution_count": 7,
     "metadata": {},
     "output_type": "execute_result"
    }
   ],
   "source": [
    "array = np.array([9, 5, 2, 7, 1])\n",
    "\n",
    "sorted_array = np.sort(array)\n",
    "\n",
    "sorted_array\n"
   ]
  },
  {
   "cell_type": "markdown",
   "id": "9d0fc22b",
   "metadata": {},
   "source": [
    "#### sort the original array in descending order"
   ]
  },
  {
   "cell_type": "code",
   "execution_count": 8,
   "id": "721d9440",
   "metadata": {},
   "outputs": [
    {
     "data": {
      "text/plain": [
       "array([9, 7, 5, 2, 1])"
      ]
     },
     "execution_count": 8,
     "metadata": {},
     "output_type": "execute_result"
    }
   ],
   "source": [
    "\n",
    "array = np.array([9, 5, 2, 7, 1])\n",
    "\n",
    "sorted_array = np.sort(array)[::-1]\n",
    "\n",
    "sorted_array\n"
   ]
  },
  {
   "cell_type": "markdown",
   "id": "3c0962d7",
   "metadata": {},
   "source": [
    "#### 6. Find the unique values in the original array."
   ]
  },
  {
   "cell_type": "code",
   "execution_count": 9,
   "id": "828c6b3b",
   "metadata": {},
   "outputs": [
    {
     "name": "stdout",
     "output_type": "stream",
     "text": [
      "[1 2 3 4 5 6 7]\n"
     ]
    }
   ],
   "source": [
    "array = np.array([1, 7, 3, 2, 1, 4, 5, 4, 6])\n",
    "\n",
    "unique_values = np.unique(array)\n",
    "\n",
    "print(unique_values)\n"
   ]
  },
  {
   "cell_type": "markdown",
   "id": "2c19f3f7",
   "metadata": {},
   "source": [
    "#### 7. Use the np.in1d() function to create a boolean array indicating which elements of the original array are also present in a new array with 5 random integers between 0 and 100."
   ]
  },
  {
   "cell_type": "code",
   "execution_count": 11,
   "id": "76374f13",
   "metadata": {
    "scrolled": true
   },
   "outputs": [
    {
     "name": "stdout",
     "output_type": "stream",
     "text": [
      "[False False  True False False]\n"
     ]
    }
   ],
   "source": [
    "original_array = np.array([1, 2, 3, 4, 5])\n",
    "\n",
    "new_array = np.random.randint(0, 100, size=5)\n",
    "\n",
    "is_in_new_array = np.in1d(original_array, new_array)\n",
    "\n",
    "print(is_in_new_array)\n"
   ]
  },
  {
   "cell_type": "markdown",
   "id": "ce370671",
   "metadata": {},
   "source": [
    "##### 8. Save the original array to a text file named \"my_array.txt\" using the np.savetxt() function.\n"
   ]
  },
  {
   "cell_type": "code",
   "execution_count": 12,
   "id": "0a92ae33",
   "metadata": {},
   "outputs": [
    {
     "name": "stdout",
     "output_type": "stream",
     "text": [
      "Array saved to my_array.txt\n"
     ]
    }
   ],
   "source": [
    "original_array = np.array([1, 2, 3, 4, 5])\n",
    "\n",
    "np.savetxt(\"my_array.txt\", original_array)\n",
    "\n",
    "print(\"Array saved to my_array.txt\")\n"
   ]
  },
  {
   "cell_type": "code",
   "execution_count": null,
   "id": "c766133b",
   "metadata": {},
   "outputs": [],
   "source": []
  }
 ],
 "metadata": {
  "kernelspec": {
   "display_name": "Python 3 (ipykernel)",
   "language": "python",
   "name": "python3"
  },
  "language_info": {
   "codemirror_mode": {
    "name": "ipython",
    "version": 3
   },
   "file_extension": ".py",
   "mimetype": "text/x-python",
   "name": "python",
   "nbconvert_exporter": "python",
   "pygments_lexer": "ipython3",
   "version": "3.10.9"
  }
 },
 "nbformat": 4,
 "nbformat_minor": 5
}
